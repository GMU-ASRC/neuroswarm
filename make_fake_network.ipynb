{
 "cells": [
  {
   "cell_type": "code",
   "execution_count": 35,
   "id": "0f9b2e56-dd08-4425-bbc5-fa6d17f8432f",
   "metadata": {
    "execution": {
     "iopub.execute_input": "2024-06-07T03:29:42.161593Z",
     "iopub.status.busy": "2024-06-07T03:29:42.161094Z",
     "iopub.status.idle": "2024-06-07T03:29:42.174596Z",
     "shell.execute_reply": "2024-06-07T03:29:42.174091Z",
     "shell.execute_reply.started": "2024-06-07T03:29:42.161593Z"
    }
   },
   "outputs": [],
   "source": [
    "from casPYan import Node, Edge, connect, step, apply_spike\n",
    "import casPYan as cap\n",
    "import tabulate\n",
    "import json\n",
    "import copy\n",
    "\n",
    "\n",
    "from IPython.core.debugger import Pdb"
   ]
  },
  {
   "cell_type": "code",
   "execution_count": 36,
   "id": "114dda81-da1a-4e0e-8e38-3c8cfd26d9ed",
   "metadata": {
    "editable": true,
    "execution": {
     "iopub.execute_input": "2024-06-07T03:29:42.683694Z",
     "iopub.status.busy": "2024-06-07T03:29:42.683195Z",
     "iopub.status.idle": "2024-06-07T03:29:42.686694Z",
     "shell.execute_reply": "2024-06-07T03:29:42.686694Z",
     "shell.execute_reply.started": "2024-06-07T03:29:42.683694Z"
    },
    "jupyter": {
     "source_hidden": true
    },
    "slideshow": {
     "slide_type": ""
    },
    "tags": []
   },
   "outputs": [],
   "source": [
    "def network_table(nodes):\n",
    "    # Show network output/state\n",
    "    counts = cap.fires(nodes)\n",
    "    vectors = cap.vectors(nodes)\n",
    "    lastfires = cap.lastfires(nodes)\n",
    "    charges = cap.charges(nodes)\n",
    "    # histories = [node.history for node in nodes]\n",
    "\n",
    "    data = zip(\n",
    "        range(len(counts)),\n",
    "        charges,\n",
    "        counts,\n",
    "        lastfires,\n",
    "        vectors,\n",
    "        # histories,\n",
    "    )\n",
    "    data = [[\n",
    "        'id',\n",
    "        'charge',\n",
    "        'fires',\n",
    "        't_lastfire',\n",
    "        't_fires',\n",
    "        # 'histories',\n",
    "    ]] + list(data)\n",
    "    return tabulate.tabulate(data, tablefmt='html')"
   ]
  },
  {
   "cell_type": "code",
   "execution_count": 37,
   "id": "079a4e2f-f90d-447a-95e0-70e38ce23028",
   "metadata": {
    "execution": {
     "iopub.execute_input": "2024-06-07T03:29:43.043026Z",
     "iopub.status.busy": "2024-06-07T03:29:43.043026Z",
     "iopub.status.idle": "2024-06-07T03:29:43.046527Z",
     "shell.execute_reply": "2024-06-07T03:29:43.046028Z",
     "shell.execute_reply.started": "2024-06-07T03:29:43.043026Z"
    }
   },
   "outputs": [],
   "source": [
    "nodes = []  # create nodes object\n",
    "inputs = i0, i1 = Node(1), Node(1)  # create true input nodes\n",
    "outputs = out = [Node(1) for i in range(4)]  # create true output nodes\n",
    "\n",
    "nodes += inputs  # add inputs and outputs to the list of all nodes\n",
    "nodes += outputs"
   ]
  },
  {
   "cell_type": "code",
   "execution_count": 38,
   "id": "04fc9c9a-26b2-4c1d-a799-95485778ae48",
   "metadata": {
    "execution": {
     "iopub.execute_input": "2024-06-07T03:29:43.766159Z",
     "iopub.status.busy": "2024-06-07T03:29:43.766159Z",
     "iopub.status.idle": "2024-06-07T03:29:43.844159Z",
     "shell.execute_reply": "2024-06-07T03:29:43.844159Z",
     "shell.execute_reply.started": "2024-06-07T03:29:43.766159Z"
    }
   },
   "outputs": [],
   "source": [
    "# apply_spike(in0, 1.0, 0)\n",
    "def apply_spike_const(node, a, n):\n",
    "    node.intake += [(a, delay) for delay in range(n)]\n",
    "\n",
    "def read_jsonfile(path):\n",
    "    with open(path, 'r') as f:\n",
    "        return json.loads(f.read())\n",
    "\n",
    "nets = [cap.network_from_json(read_jsonfile(f\"networks/b2_{i}.json\")) for i in range(10 + 1)]\n"
   ]
  },
  {
   "cell_type": "code",
   "execution_count": 39,
   "id": "2315ace9-a480-4383-b5f7-f4abadd0f2ed",
   "metadata": {
    "execution": {
     "iopub.execute_input": "2024-06-07T03:29:44.121736Z",
     "iopub.status.busy": "2024-06-07T03:29:44.121232Z",
     "iopub.status.idle": "2024-06-07T03:29:44.125733Z",
     "shell.execute_reply": "2024-06-07T03:29:44.125233Z",
     "shell.execute_reply.started": "2024-06-07T03:29:44.121736Z"
    }
   },
   "outputs": [],
   "source": [
    "def foldin_subnet(subnet, output, invert=False):\n",
    "    global nodes\n",
    "    subnodes, subinputs, suboutputs = copy.deepcopy(subnet)\n",
    "    nodes += list(subnodes.values())\n",
    "    connect(inputs[1 if invert else 0], subinputs[0], weight=255)\n",
    "    connect(inputs[0 if invert else 1], subinputs[1], weight=255)\n",
    "    connect(suboutputs[0], output, weight=255)\n",
    "\n",
    "# -v +v -w +w\n",
    "#  0  1  2  3\n",
    "\n",
    "# see stuff\n",
    "foldin_subnet(nets[10], out[1])  # +v\n",
    "foldin_subnet(nets[1], out[3])  # +w\n",
    "# don't see stuff\n",
    "foldin_subnet(nets[10], out[1], invert=1)  # +v\n",
    "foldin_subnet(nets[10], out[2], invert=1)  # -w"
   ]
  },
  {
   "cell_type": "code",
   "execution_count": null,
   "id": "a6dd315e-538f-4d9d-9589-c3db992e7905",
   "metadata": {},
   "outputs": [],
   "source": []
  },
  {
   "cell_type": "code",
   "execution_count": 40,
   "id": "39d3f6db-7b3f-4814-898c-b3d134afc99a",
   "metadata": {
    "execution": {
     "iopub.execute_input": "2024-06-07T03:29:44.878490Z",
     "iopub.status.busy": "2024-06-07T03:29:44.877992Z",
     "iopub.status.idle": "2024-06-07T03:29:44.880989Z",
     "shell.execute_reply": "2024-06-07T03:29:44.880492Z",
     "shell.execute_reply.started": "2024-06-07T03:29:44.878490Z"
    }
   },
   "outputs": [],
   "source": [
    "# cap.step(nodes)\n",
    "# inputs[1].callback_prestep_fire = lambda node: Pdb().set_trace()"
   ]
  },
  {
   "cell_type": "code",
   "execution_count": 41,
   "id": "b5d8de6f-5c8c-4e75-8272-ba4d83dc3534",
   "metadata": {
    "execution": {
     "iopub.execute_input": "2024-06-07T03:29:54.555189Z",
     "iopub.status.busy": "2024-06-07T03:29:54.554689Z",
     "iopub.status.idle": "2024-06-07T03:29:54.558190Z",
     "shell.execute_reply": "2024-06-07T03:29:54.557689Z",
     "shell.execute_reply.started": "2024-06-07T03:29:54.555189Z"
    }
   },
   "outputs": [],
   "source": [
    "apply_spike_const(inputs[0], 255, 10)"
   ]
  },
  {
   "cell_type": "code",
   "execution_count": 42,
   "id": "766f42f0-5cc1-477b-a78f-5b5c094ed15f",
   "metadata": {
    "execution": {
     "iopub.execute_input": "2024-06-07T03:29:57.156687Z",
     "iopub.status.busy": "2024-06-07T03:29:57.156189Z",
     "iopub.status.idle": "2024-06-07T03:29:57.160186Z",
     "shell.execute_reply": "2024-06-07T03:29:57.159686Z",
     "shell.execute_reply.started": "2024-06-07T03:29:57.156687Z"
    }
   },
   "outputs": [],
   "source": [
    "cap.run(nodes, 5)\n",
    "cap.run(nodes, 10)\n",
    "# cap.run(nodes, 0)"
   ]
  },
  {
   "cell_type": "code",
   "execution_count": 43,
   "id": "41dda958-7f1f-4726-9fbf-17de6cd3113d",
   "metadata": {
    "execution": {
     "iopub.execute_input": "2024-06-07T03:29:57.376197Z",
     "iopub.status.busy": "2024-06-07T03:29:57.375697Z",
     "iopub.status.idle": "2024-06-07T03:29:57.380694Z",
     "shell.execute_reply": "2024-06-07T03:29:57.380198Z",
     "shell.execute_reply.started": "2024-06-07T03:29:57.376197Z"
    }
   },
   "outputs": [
    {
     "data": {
      "text/html": [
       "<table>\n",
       "<tbody>\n",
       "<tr><td>id</td><td>charge</td><td>fires</td><td>t_lastfire</td><td>t_fires                       </td></tr>\n",
       "<tr><td>0 </td><td>0     </td><td>6    </td><td>5         </td><td>[0, 1, 2, 3, 4, 5]            </td></tr>\n",
       "<tr><td>1 </td><td>0     </td><td>0    </td><td>-1.0      </td><td>[]                            </td></tr>\n",
       "<tr><td>2 </td><td>0     </td><td>0    </td><td>-1.0      </td><td>[]                            </td></tr>\n",
       "<tr><td>3 </td><td>0     </td><td>10   </td><td>9         </td><td>[0, 1, 2, 3, 4, 5, 6, 7, 8, 9]</td></tr>\n",
       "<tr><td>4 </td><td>0     </td><td>10   </td><td>9         </td><td>[0, 1, 2, 3, 4, 5, 6, 7, 8, 9]</td></tr>\n",
       "<tr><td>5 </td><td>0     </td><td>0    </td><td>-1.0      </td><td>[]                            </td></tr>\n",
       "<tr><td>6 </td><td>0.0   </td><td>7    </td><td>6         </td><td>[0, 1, 2, 3, 4, 5, 6]         </td></tr>\n",
       "<tr><td>7 </td><td>0.0   </td><td>0    </td><td>-1.0      </td><td>[]                            </td></tr>\n",
       "<tr><td>8 </td><td>0.0   </td><td>0    </td><td>-1.0      </td><td>[]                            </td></tr>\n",
       "<tr><td>9 </td><td>0     </td><td>0    </td><td>-1.0      </td><td>[]                            </td></tr>\n",
       "<tr><td>10</td><td>0.0   </td><td>7    </td><td>6         </td><td>[0, 1, 2, 3, 4, 5, 6]         </td></tr>\n",
       "<tr><td>11</td><td>0     </td><td>0    </td><td>-1.0      </td><td>[]                            </td></tr>\n",
       "<tr><td>12</td><td>0.0   </td><td>0    </td><td>-1.0      </td><td>[]                            </td></tr>\n",
       "<tr><td>13</td><td>0.0   </td><td>0    </td><td>-1.0      </td><td>[]                            </td></tr>\n",
       "<tr><td>14</td><td>0.0   </td><td>7    </td><td>6         </td><td>[0, 1, 2, 3, 4, 5, 6]         </td></tr>\n",
       "<tr><td>15</td><td>0.0   </td><td>9    </td><td>8         </td><td>[0, 1, 2, 3, 4, 5, 6, 7, 8]   </td></tr>\n",
       "<tr><td>16</td><td>0     </td><td>0    </td><td>-1.0      </td><td>[]                            </td></tr>\n",
       "<tr><td>17</td><td>0.0   </td><td>0    </td><td>-1.0      </td><td>[]                            </td></tr>\n",
       "<tr><td>18</td><td>0.0   </td><td>7    </td><td>6         </td><td>[0, 1, 2, 3, 4, 5, 6]         </td></tr>\n",
       "<tr><td>19</td><td>0.0   </td><td>9    </td><td>8         </td><td>[0, 1, 2, 3, 4, 5, 6, 7, 8]   </td></tr>\n",
       "<tr><td>20</td><td>0     </td><td>0    </td><td>-1.0      </td><td>[]                            </td></tr>\n",
       "</tbody>\n",
       "</table>"
      ],
      "text/plain": [
       "'<table>\\n<tbody>\\n<tr><td>id</td><td>charge</td><td>fires</td><td>t_lastfire</td><td>t_fires                       </td></tr>\\n<tr><td>0 </td><td>0     </td><td>6    </td><td>5         </td><td>[0, 1, 2, 3, 4, 5]            </td></tr>\\n<tr><td>1 </td><td>0     </td><td>0    </td><td>-1.0      </td><td>[]                            </td></tr>\\n<tr><td>2 </td><td>0     </td><td>0    </td><td>-1.0      </td><td>[]                            </td></tr>\\n<tr><td>3 </td><td>0     </td><td>10   </td><td>9         </td><td>[0, 1, 2, 3, 4, 5, 6, 7, 8, 9]</td></tr>\\n<tr><td>4 </td><td>0     </td><td>10   </td><td>9         </td><td>[0, 1, 2, 3, 4, 5, 6, 7, 8, 9]</td></tr>\\n<tr><td>5 </td><td>0     </td><td>0    </td><td>-1.0      </td><td>[]                            </td></tr>\\n<tr><td>6 </td><td>0.0   </td><td>7    </td><td>6         </td><td>[0, 1, 2, 3, 4, 5, 6]         </td></tr>\\n<tr><td>7 </td><td>0.0   </td><td>0    </td><td>-1.0      </td><td>[]                            </td></tr>\\n<tr><td>8 </td><td>0.0   </td><td>0    </td><td>-1.0      </td><td>[]                            </td></tr>\\n<tr><td>9 </td><td>0     </td><td>0    </td><td>-1.0      </td><td>[]                            </td></tr>\\n<tr><td>10</td><td>0.0   </td><td>7    </td><td>6         </td><td>[0, 1, 2, 3, 4, 5, 6]         </td></tr>\\n<tr><td>11</td><td>0     </td><td>0    </td><td>-1.0      </td><td>[]                            </td></tr>\\n<tr><td>12</td><td>0.0   </td><td>0    </td><td>-1.0      </td><td>[]                            </td></tr>\\n<tr><td>13</td><td>0.0   </td><td>0    </td><td>-1.0      </td><td>[]                            </td></tr>\\n<tr><td>14</td><td>0.0   </td><td>7    </td><td>6         </td><td>[0, 1, 2, 3, 4, 5, 6]         </td></tr>\\n<tr><td>15</td><td>0.0   </td><td>9    </td><td>8         </td><td>[0, 1, 2, 3, 4, 5, 6, 7, 8]   </td></tr>\\n<tr><td>16</td><td>0     </td><td>0    </td><td>-1.0      </td><td>[]                            </td></tr>\\n<tr><td>17</td><td>0.0   </td><td>0    </td><td>-1.0      </td><td>[]                            </td></tr>\\n<tr><td>18</td><td>0.0   </td><td>7    </td><td>6         </td><td>[0, 1, 2, 3, 4, 5, 6]         </td></tr>\\n<tr><td>19</td><td>0.0   </td><td>9    </td><td>8         </td><td>[0, 1, 2, 3, 4, 5, 6, 7, 8]   </td></tr>\\n<tr><td>20</td><td>0     </td><td>0    </td><td>-1.0      </td><td>[]                            </td></tr>\\n</tbody>\\n</table>'"
      ]
     },
     "execution_count": 43,
     "metadata": {},
     "output_type": "execute_result"
    }
   ],
   "source": [
    "network_table(nodes)"
   ]
  },
  {
   "cell_type": "code",
   "execution_count": 44,
   "id": "50896267-05c4-4147-a2a2-94e1bbfce5a6",
   "metadata": {
    "editable": true,
    "execution": {
     "iopub.execute_input": "2024-03-31T02:51:00.062786Z",
     "iopub.status.busy": "2024-03-31T02:51:00.062786Z",
     "iopub.status.idle": "2024-03-31T02:51:00.069287Z",
     "shell.execute_reply": "2024-03-31T02:51:00.068786Z",
     "shell.execute_reply.started": "2024-03-31T02:51:00.062786Z"
    },
    "slideshow": {
     "slide_type": ""
    },
    "tags": []
   },
   "outputs": [
    {
     "data": {
      "text/plain": [
       "[Node at 7f61fc19cb90 w/ Threshold: 1, Delay: None, Leak: None, children: ['f080', '7410', '6f60', '5670'],\n",
       " Node at 7f61fc0c7980 w/ Threshold: 1, Delay: None, Leak: None, children: ['ef00', '7c20', '6cf0', '5c10'],\n",
       " Node at 7f6200782db0 w/ Threshold: 1, Delay: None, Leak: None, children: [],\n",
       " Node at 7f61fc0c4fe0 w/ Threshold: 1, Delay: None, Leak: None, children: [],\n",
       " Node at 7f61fc14de80 w/ Threshold: 1, Delay: None, Leak: None, children: [],\n",
       " Node at 7f61fc0d5160 w/ Threshold: 1, Delay: None, Leak: None, children: [],\n",
       " Node at 7f61fc19f080 w/ Threshold: 0.0, Delay: 0.0, Leak: 0.0, children: [],\n",
       " Node at 7f61fc19ef00 w/ Threshold: 0.0, Delay: 0.0, Leak: 1.0, children: ['4dd0'],\n",
       " Node at 7f61fc0d4dd0 w/ Threshold: 0.0, Delay: 0.0, Leak: 3.0, children: ['f080', 'ef00', '4fe0'],\n",
       " Node at 7f61fc0c57f0 w/ Threshold: 68.0, Delay: 0.0, Leak: 2.0, children: [],\n",
       " Node at 7f61fc0d7410 w/ Threshold: 125.0, Delay: 0.0, Leak: 3.0, children: [],\n",
       " Node at 7f61fc0d7c20 w/ Threshold: 14.0, Delay: 0.0, Leak: 0.0, children: ['5700'],\n",
       " Node at 7f61fc0d5700 w/ Threshold: 39.0, Delay: 0.0, Leak: 0.0, children: ['7410', '5700', '5160'],\n",
       " Node at 7f61fc0d6cf0 w/ Threshold: 0.0, Delay: 0.0, Leak: 0.0, children: [],\n",
       " Node at 7f61fc0d6f60 w/ Threshold: 0.0, Delay: 0.0, Leak: 1.0, children: ['5a60'],\n",
       " Node at 7f61fc0d5a60 w/ Threshold: 0.0, Delay: 0.0, Leak: 3.0, children: ['6cf0', '6f60', '4fe0'],\n",
       " Node at 7f61fc0d57f0 w/ Threshold: 68.0, Delay: 0.0, Leak: 2.0, children: [],\n",
       " Node at 7f61fc0d5c10 w/ Threshold: 0.0, Delay: 0.0, Leak: 0.0, children: [],\n",
       " Node at 7f61fc0d5670 w/ Threshold: 0.0, Delay: 0.0, Leak: 1.0, children: ['5f70'],\n",
       " Node at 7f61fc0d5f70 w/ Threshold: 0.0, Delay: 0.0, Leak: 3.0, children: ['5c10', '5670', 'de80'],\n",
       " Node at 7f61fc0d5d00 w/ Threshold: 68.0, Delay: 0.0, Leak: 2.0, children: []]"
      ]
     },
     "execution_count": 44,
     "metadata": {},
     "output_type": "execute_result"
    }
   ],
   "source": [
    "\n",
    "\n",
    "# nodes, inputs, outputs = cap.network_from_json(j)\n",
    "nodes"
   ]
  },
  {
   "cell_type": "code",
   "execution_count": 45,
   "id": "a90f6ed9-98c0-4399-a872-666e546119c0",
   "metadata": {
    "execution": {
     "iopub.execute_input": "2024-03-31T02:51:00.070788Z",
     "iopub.status.busy": "2024-03-31T02:51:00.070286Z",
     "iopub.status.idle": "2024-03-31T02:51:00.080787Z",
     "shell.execute_reply": "2024-03-31T02:51:00.080286Z",
     "shell.execute_reply.started": "2024-03-31T02:51:00.070788Z"
    }
   },
   "outputs": [
    {
     "data": {
      "text/plain": [
       "{'Associated_Data': {'application': {'proc_ticks': 10},\n",
       "  'label': None,\n",
       "  'processor': {'Leak_Enable': True,\n",
       "   'Max_Leak': 4,\n",
       "   'Min_Leak': -1,\n",
       "   'Max_Weight': 127,\n",
       "   'Min_Weight': -127,\n",
       "   'Max_Threshold': 127,\n",
       "   'Min_Threshold': 0,\n",
       "   'Max_Synapse_Delay': 255,\n",
       "   'Min_Synapse_Delay': 0,\n",
       "   'Max_Axon_Delay': 0,\n",
       "   'Min_Axon_Delay': 0}},\n",
       " 'Properties': {'network_properties': [],\n",
       "  'node_properties': [{'index': 0,\n",
       "    'name': 'Threshold',\n",
       "    'max_value': 127.0,\n",
       "    'min_value': 0.0,\n",
       "    'size': 1,\n",
       "    'type': 73},\n",
       "   {'index': 1,\n",
       "    'name': 'Leak',\n",
       "    'max_value': 4.0,\n",
       "    'min_value': -1.0,\n",
       "    'size': 1,\n",
       "    'type': 73},\n",
       "   {'index': 2,\n",
       "    'name': 'Delay',\n",
       "    'max_value': 0.0,\n",
       "    'min_value': 0.0,\n",
       "    'size': 1,\n",
       "    'type': 73}],\n",
       "  'edge_properties': [{'index': 0,\n",
       "    'name': 'Weight',\n",
       "    'max_value': 127.0,\n",
       "    'min_value': -127.0,\n",
       "    'size': 1,\n",
       "    'type': 73},\n",
       "   {'index': 1,\n",
       "    'name': 'Delay',\n",
       "    'max_value': 300.0,\n",
       "    'min_value': 0.0,\n",
       "    'size': 1,\n",
       "    'type': 73}]},\n",
       " 'Nodes': [{'id': 0, 'values': [1, -1, 0]},\n",
       "  {'id': 1, 'values': [1, -1, 0]},\n",
       "  {'id': 2, 'values': [1, -1, 0]},\n",
       "  {'id': 3, 'values': [1, -1, 0]},\n",
       "  {'id': 4, 'values': [1, -1, 0]},\n",
       "  {'id': 5, 'values': [1, -1, 0]},\n",
       "  {'id': 6, 'values': [0.0, 0.0, 0.0]},\n",
       "  {'id': 7, 'values': [0.0, 1.0, 0.0]},\n",
       "  {'id': 8, 'values': [0.0, 3.0, 0.0]},\n",
       "  {'id': 9, 'values': [68.0, 2.0, 0.0]},\n",
       "  {'id': 10, 'values': [125.0, 3.0, 0.0]},\n",
       "  {'id': 11, 'values': [14.0, 0.0, 0.0]},\n",
       "  {'id': 12, 'values': [39.0, 0.0, 0.0]},\n",
       "  {'id': 13, 'values': [0.0, 0.0, 0.0]},\n",
       "  {'id': 14, 'values': [0.0, 1.0, 0.0]},\n",
       "  {'id': 15, 'values': [0.0, 3.0, 0.0]},\n",
       "  {'id': 16, 'values': [68.0, 2.0, 0.0]},\n",
       "  {'id': 17, 'values': [0.0, 0.0, 0.0]},\n",
       "  {'id': 18, 'values': [0.0, 1.0, 0.0]},\n",
       "  {'id': 19, 'values': [0.0, 3.0, 0.0]},\n",
       "  {'id': 20, 'values': [68.0, 2.0, 0.0]}],\n",
       " 'Inputs': [0, 1],\n",
       " 'Outputs': [2, 3, 4, 5],\n",
       " 'Edges': [{'from': 0, 'to': 6, 'values': [255, 0]},\n",
       "  {'from': 0, 'to': 10, 'values': [255, 0]},\n",
       "  {'from': 0, 'to': 14, 'values': [255, 0]},\n",
       "  {'from': 0, 'to': 18, 'values': [255, 0]},\n",
       "  {'from': 1, 'to': 7, 'values': [255, 0]},\n",
       "  {'from': 1, 'to': 11, 'values': [255, 0]},\n",
       "  {'from': 1, 'to': 13, 'values': [255, 0]},\n",
       "  {'from': 1, 'to': 17, 'values': [255, 0]},\n",
       "  {'from': 7, 'to': 8, 'values': [7.0, 1.0]},\n",
       "  {'from': 8, 'to': 6, 'values': [-103.0, 16.0]},\n",
       "  {'from': 8, 'to': 7, 'values': [-50.0, 190.0]},\n",
       "  {'from': 8, 'to': 3, 'values': [255, 0]},\n",
       "  {'from': 11, 'to': 12, 'values': [22.0, 4.0]},\n",
       "  {'from': 12, 'to': 10, 'values': [-33.0, 6.0]},\n",
       "  {'from': 12, 'to': 12, 'values': [-87.0, 198.0]},\n",
       "  {'from': 12, 'to': 5, 'values': [255, 0]},\n",
       "  {'from': 14, 'to': 15, 'values': [7.0, 1.0]},\n",
       "  {'from': 15, 'to': 13, 'values': [-103.0, 16.0]},\n",
       "  {'from': 15, 'to': 14, 'values': [-50.0, 190.0]},\n",
       "  {'from': 15, 'to': 3, 'values': [255, 0]},\n",
       "  {'from': 18, 'to': 19, 'values': [7.0, 1.0]},\n",
       "  {'from': 19, 'to': 17, 'values': [-103.0, 16.0]},\n",
       "  {'from': 19, 'to': 18, 'values': [-50.0, 190.0]},\n",
       "  {'from': 19, 'to': 4, 'values': [255, 0]}],\n",
       " 'Network_Values': []}"
      ]
     },
     "execution_count": 45,
     "metadata": {},
     "output_type": "execute_result"
    }
   ],
   "source": [
    "d = cap.to_tennlab(nodes, inputs, outputs)\n",
    "d['Associated_Data']['application'].update({'proc_ticks': 10})\n",
    "j = json.dumps(d)\n",
    "with open('networks/combonet_vv_1.json', 'w') as f:\n",
    "    f.write(j)\n",
    "d"
   ]
  },
  {
   "cell_type": "code",
   "execution_count": null,
   "id": "c68adb9a-2860-4ec2-a361-923a7a7aa2dc",
   "metadata": {},
   "outputs": [],
   "source": []
  },
  {
   "cell_type": "code",
   "execution_count": 46,
   "id": "394a7084-4304-4bac-9028-d874aa7ad347",
   "metadata": {
    "execution": {
     "iopub.execute_input": "2024-03-31T02:51:00.082286Z",
     "iopub.status.busy": "2024-03-31T02:51:00.081786Z",
     "iopub.status.idle": "2024-03-31T02:51:00.091287Z",
     "shell.execute_reply": "2024-03-31T02:51:00.090784Z",
     "shell.execute_reply.started": "2024-03-31T02:51:00.082286Z"
    }
   },
   "outputs": [],
   "source": [
    "nodes, inputs, outputs = cap.network_from_json(read_jsonfile(f\"networks/combonet_vv_1.json\"))\n",
    "nodes = nodes.values()"
   ]
  },
  {
   "cell_type": "code",
   "execution_count": 47,
   "id": "54ba4c5f-b8b8-4c87-94c8-cd044e3ebc2f",
   "metadata": {
    "execution": {
     "iopub.execute_input": "2024-03-31T02:51:00.092285Z",
     "iopub.status.busy": "2024-03-31T02:51:00.091786Z",
     "iopub.status.idle": "2024-03-31T02:51:00.095287Z",
     "shell.execute_reply": "2024-03-31T02:51:00.094786Z",
     "shell.execute_reply.started": "2024-03-31T02:51:00.092285Z"
    }
   },
   "outputs": [],
   "source": [
    "apply_spike_const(inputs[1], 255, 10)"
   ]
  },
  {
   "cell_type": "code",
   "execution_count": 48,
   "id": "b79520b6-68dd-4f3b-b71a-d0c156a1b0d9",
   "metadata": {
    "execution": {
     "iopub.execute_input": "2024-03-31T02:51:00.096286Z",
     "iopub.status.busy": "2024-03-31T02:51:00.096286Z",
     "iopub.status.idle": "2024-03-31T02:51:00.102287Z",
     "shell.execute_reply": "2024-03-31T02:51:00.101786Z",
     "shell.execute_reply.started": "2024-03-31T02:51:00.096286Z"
    }
   },
   "outputs": [],
   "source": [
    "cap.run(nodes, 5)\n",
    "cap.run(nodes, 10)\n",
    "# cap.run(nodes, 0)"
   ]
  },
  {
   "cell_type": "code",
   "execution_count": 49,
   "id": "7d97d80f-fb93-495c-a58b-c7a6cc0cca86",
   "metadata": {
    "execution": {
     "iopub.execute_input": "2024-03-31T02:51:00.103285Z",
     "iopub.status.busy": "2024-03-31T02:51:00.103285Z",
     "iopub.status.idle": "2024-03-31T02:51:00.109287Z",
     "shell.execute_reply": "2024-03-31T02:51:00.108786Z",
     "shell.execute_reply.started": "2024-03-31T02:51:00.103285Z"
    }
   },
   "outputs": [
    {
     "data": {
      "text/html": [
       "<table>\n",
       "<tbody>\n",
       "<tr><td>id</td><td>charge</td><td>fires</td><td>t_lastfire</td><td>t_fires                       </td></tr>\n",
       "<tr><td>0 </td><td>0     </td><td>0    </td><td>-1.0      </td><td>[]                            </td></tr>\n",
       "<tr><td>1 </td><td>0     </td><td>6    </td><td>5         </td><td>[0, 1, 2, 3, 4, 5]            </td></tr>\n",
       "<tr><td>2 </td><td>0     </td><td>0    </td><td>-1.0      </td><td>[]                            </td></tr>\n",
       "<tr><td>3 </td><td>0     </td><td>10   </td><td>9         </td><td>[0, 1, 2, 3, 4, 5, 6, 7, 8, 9]</td></tr>\n",
       "<tr><td>4 </td><td>0     </td><td>0    </td><td>-1.0      </td><td>[]                            </td></tr>\n",
       "<tr><td>5 </td><td>255.0 </td><td>1    </td><td>6         </td><td>[6]                           </td></tr>\n",
       "<tr><td>6 </td><td>0.0   </td><td>0    </td><td>-1.0      </td><td>[]                            </td></tr>\n",
       "<tr><td>7 </td><td>0.0   </td><td>7    </td><td>6         </td><td>[0, 1, 2, 3, 4, 5, 6]         </td></tr>\n",
       "<tr><td>8 </td><td>0.0   </td><td>9    </td><td>8         </td><td>[0, 1, 2, 3, 4, 5, 6, 7, 8]   </td></tr>\n",
       "<tr><td>9 </td><td>0     </td><td>0    </td><td>-1.0      </td><td>[]                            </td></tr>\n",
       "<tr><td>10</td><td>0.0   </td><td>0    </td><td>-1.0      </td><td>[]                            </td></tr>\n",
       "<tr><td>11</td><td>0     </td><td>7    </td><td>6         </td><td>[0, 1, 2, 3, 4, 5, 6]         </td></tr>\n",
       "<tr><td>12</td><td>22.0  </td><td>2    </td><td>9         </td><td>[5, 9]                        </td></tr>\n",
       "<tr><td>13</td><td>0.0   </td><td>7    </td><td>6         </td><td>[0, 1, 2, 3, 4, 5, 6]         </td></tr>\n",
       "<tr><td>14</td><td>0.0   </td><td>0    </td><td>-1.0      </td><td>[]                            </td></tr>\n",
       "<tr><td>15</td><td>0.0   </td><td>0    </td><td>-1.0      </td><td>[]                            </td></tr>\n",
       "<tr><td>16</td><td>0     </td><td>0    </td><td>-1.0      </td><td>[]                            </td></tr>\n",
       "<tr><td>17</td><td>0.0   </td><td>7    </td><td>6         </td><td>[0, 1, 2, 3, 4, 5, 6]         </td></tr>\n",
       "<tr><td>18</td><td>0.0   </td><td>0    </td><td>-1.0      </td><td>[]                            </td></tr>\n",
       "<tr><td>19</td><td>0.0   </td><td>0    </td><td>-1.0      </td><td>[]                            </td></tr>\n",
       "<tr><td>20</td><td>0     </td><td>0    </td><td>-1.0      </td><td>[]                            </td></tr>\n",
       "</tbody>\n",
       "</table>"
      ],
      "text/plain": [
       "'<table>\\n<tbody>\\n<tr><td>id</td><td>charge</td><td>fires</td><td>t_lastfire</td><td>t_fires                       </td></tr>\\n<tr><td>0 </td><td>0     </td><td>0    </td><td>-1.0      </td><td>[]                            </td></tr>\\n<tr><td>1 </td><td>0     </td><td>6    </td><td>5         </td><td>[0, 1, 2, 3, 4, 5]            </td></tr>\\n<tr><td>2 </td><td>0     </td><td>0    </td><td>-1.0      </td><td>[]                            </td></tr>\\n<tr><td>3 </td><td>0     </td><td>10   </td><td>9         </td><td>[0, 1, 2, 3, 4, 5, 6, 7, 8, 9]</td></tr>\\n<tr><td>4 </td><td>0     </td><td>0    </td><td>-1.0      </td><td>[]                            </td></tr>\\n<tr><td>5 </td><td>255.0 </td><td>1    </td><td>6         </td><td>[6]                           </td></tr>\\n<tr><td>6 </td><td>0.0   </td><td>0    </td><td>-1.0      </td><td>[]                            </td></tr>\\n<tr><td>7 </td><td>0.0   </td><td>7    </td><td>6         </td><td>[0, 1, 2, 3, 4, 5, 6]         </td></tr>\\n<tr><td>8 </td><td>0.0   </td><td>9    </td><td>8         </td><td>[0, 1, 2, 3, 4, 5, 6, 7, 8]   </td></tr>\\n<tr><td>9 </td><td>0     </td><td>0    </td><td>-1.0      </td><td>[]                            </td></tr>\\n<tr><td>10</td><td>0.0   </td><td>0    </td><td>-1.0      </td><td>[]                            </td></tr>\\n<tr><td>11</td><td>0     </td><td>7    </td><td>6         </td><td>[0, 1, 2, 3, 4, 5, 6]         </td></tr>\\n<tr><td>12</td><td>22.0  </td><td>2    </td><td>9         </td><td>[5, 9]                        </td></tr>\\n<tr><td>13</td><td>0.0   </td><td>7    </td><td>6         </td><td>[0, 1, 2, 3, 4, 5, 6]         </td></tr>\\n<tr><td>14</td><td>0.0   </td><td>0    </td><td>-1.0      </td><td>[]                            </td></tr>\\n<tr><td>15</td><td>0.0   </td><td>0    </td><td>-1.0      </td><td>[]                            </td></tr>\\n<tr><td>16</td><td>0     </td><td>0    </td><td>-1.0      </td><td>[]                            </td></tr>\\n<tr><td>17</td><td>0.0   </td><td>7    </td><td>6         </td><td>[0, 1, 2, 3, 4, 5, 6]         </td></tr>\\n<tr><td>18</td><td>0.0   </td><td>0    </td><td>-1.0      </td><td>[]                            </td></tr>\\n<tr><td>19</td><td>0.0   </td><td>0    </td><td>-1.0      </td><td>[]                            </td></tr>\\n<tr><td>20</td><td>0     </td><td>0    </td><td>-1.0      </td><td>[]                            </td></tr>\\n</tbody>\\n</table>'"
      ]
     },
     "execution_count": 49,
     "metadata": {},
     "output_type": "execute_result"
    }
   ],
   "source": [
    "network_table(nodes)"
   ]
  },
  {
   "cell_type": "code",
   "execution_count": null,
   "id": "e476023b-4deb-45d5-bab5-7f188bf4e16d",
   "metadata": {},
   "outputs": [],
   "source": []
  }
 ],
 "metadata": {
  "kernelspec": {
   "display_name": "pyframework",
   "language": "python",
   "name": "python3"
  },
  "language_info": {
   "codemirror_mode": {
    "name": "ipython",
    "version": 3
   },
   "file_extension": ".py",
   "mimetype": "text/x-python",
   "name": "python",
   "nbconvert_exporter": "python",
   "pygments_lexer": "ipython3",
   "version": "3.12.2"
  }
 },
 "nbformat": 4,
 "nbformat_minor": 5
}

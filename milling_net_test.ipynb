{
 "cells": [
  {
   "cell_type": "code",
   "execution_count": 5,
   "id": "0f9b2e56-dd08-4425-bbc5-fa6d17f8432f",
   "metadata": {
    "execution": {
     "iopub.execute_input": "2024-06-07T03:36:21.702520Z",
     "iopub.status.busy": "2024-06-07T03:36:21.702020Z",
     "iopub.status.idle": "2024-06-07T03:36:21.705521Z",
     "shell.execute_reply": "2024-06-07T03:36:21.705020Z",
     "shell.execute_reply.started": "2024-06-07T03:36:21.702520Z"
    }
   },
   "outputs": [],
   "source": [
    "from casPYan import Node, Edge, connect, step, apply_spike\n",
    "import casPYan as cap\n",
    "import tabulate\n",
    "import json\n",
    "\n",
    "from IPython.core.debugger import Pdb"
   ]
  },
  {
   "cell_type": "code",
   "execution_count": 6,
   "id": "114dda81-da1a-4e0e-8e38-3c8cfd26d9ed",
   "metadata": {
    "editable": true,
    "execution": {
     "iopub.execute_input": "2024-06-07T03:36:21.914676Z",
     "iopub.status.busy": "2024-06-07T03:36:21.914175Z",
     "iopub.status.idle": "2024-06-07T03:36:21.918175Z",
     "shell.execute_reply": "2024-06-07T03:36:21.917676Z",
     "shell.execute_reply.started": "2024-06-07T03:36:21.914676Z"
    },
    "jupyter": {
     "source_hidden": true
    },
    "slideshow": {
     "slide_type": ""
    },
    "tags": []
   },
   "outputs": [],
   "source": [
    "def network_table(nodes):\n",
    "    # Show network output/state\n",
    "    counts = cap.fires(nodes)\n",
    "    vectors = cap.vectors(nodes)\n",
    "    lastfires = cap.lastfires(nodes)\n",
    "    charges = cap.charges(nodes)\n",
    "    # histories = [node.history for node in nodes]\n",
    "    \n",
    "    data = zip(\n",
    "        range(len(counts)),\n",
    "        charges,\n",
    "        counts,\n",
    "        lastfires,\n",
    "        vectors,\n",
    "        # histories,\n",
    "    )\n",
    "    data = [[\n",
    "        'id',\n",
    "        'charge',\n",
    "        'fires',\n",
    "        't_lastfire',\n",
    "        't_fires',\n",
    "        # 'histories',\n",
    "    ]] + list(data)\n",
    "    return tabulate.tabulate(data, tablefmt='html')"
   ]
  },
  {
   "cell_type": "code",
   "execution_count": 60,
   "id": "04fc9c9a-26b2-4c1d-a799-95485778ae48",
   "metadata": {
    "execution": {
     "iopub.execute_input": "2024-06-07T03:40:10.420642Z",
     "iopub.status.busy": "2024-06-07T03:40:10.420642Z",
     "iopub.status.idle": "2024-06-07T03:40:10.432644Z",
     "shell.execute_reply": "2024-06-07T03:40:10.432141Z",
     "shell.execute_reply.started": "2024-06-07T03:40:10.420642Z"
    }
   },
   "outputs": [],
   "source": [
    "# apply_spike(in0, 1.0, 0)\n",
    "def apply_spike_const(node, a, n):\n",
    "    node.intake += [(a, delay) for delay in range(n)]\n",
    "\n",
    "def read_jsonfile(path):\n",
    "    with open(path, 'r') as f:\n",
    "        return json.loads(f.read())\n",
    "\n",
    "# nets = [cap.network_from_json(read_jsonfile(f\"../../networks/b2_{i}.json\")) for i in range(10 + 1)]\n",
    "nodes_dict, inputs, outputs = cap.network_from_json(read_jsonfile('../../networks/experiment_tenn2_mill20240422_1000t_n10_p100_e1000_s23.json'))\n",
    "nodes = nodes_dict.values()\n"
   ]
  },
  {
   "cell_type": "code",
   "execution_count": null,
   "id": "a6dd315e-538f-4d9d-9589-c3db992e7905",
   "metadata": {},
   "outputs": [],
   "source": []
  },
  {
   "cell_type": "code",
   "execution_count": 61,
   "id": "39d3f6db-7b3f-4814-898c-b3d134afc99a",
   "metadata": {
    "execution": {
     "iopub.execute_input": "2024-06-07T03:40:10.835641Z",
     "iopub.status.busy": "2024-06-07T03:40:10.835641Z",
     "iopub.status.idle": "2024-06-07T03:40:10.838641Z",
     "shell.execute_reply": "2024-06-07T03:40:10.838141Z",
     "shell.execute_reply.started": "2024-06-07T03:40:10.835641Z"
    }
   },
   "outputs": [],
   "source": [
    "# cap.step(nodes)\n",
    "# inputs[1].callback_prestep_fire = lambda node: Pdb().set_trace()"
   ]
  },
  {
   "cell_type": "code",
   "execution_count": 107,
   "id": "b5d8de6f-5c8c-4e75-8272-ba4d83dc3534",
   "metadata": {
    "execution": {
     "iopub.execute_input": "2024-06-07T03:41:30.858857Z",
     "iopub.status.busy": "2024-06-07T03:41:30.858357Z",
     "iopub.status.idle": "2024-06-07T03:41:30.861359Z",
     "shell.execute_reply": "2024-06-07T03:41:30.860857Z",
     "shell.execute_reply.started": "2024-06-07T03:41:30.858857Z"
    }
   },
   "outputs": [],
   "source": [
    "apply_spike_const(inputs[0], 255, 10)"
   ]
  },
  {
   "cell_type": "code",
   "execution_count": 108,
   "id": "766f42f0-5cc1-477b-a78f-5b5c094ed15f",
   "metadata": {
    "execution": {
     "iopub.execute_input": "2024-06-07T03:41:31.021857Z",
     "iopub.status.busy": "2024-06-07T03:41:31.021360Z",
     "iopub.status.idle": "2024-06-07T03:41:31.025858Z",
     "shell.execute_reply": "2024-06-07T03:41:31.025358Z",
     "shell.execute_reply.started": "2024-06-07T03:41:31.021857Z"
    }
   },
   "outputs": [],
   "source": [
    "cap.run(nodes, 5)\n",
    "cap.run(nodes, 10)\n",
    "# cap.run(nodes, 0)"
   ]
  },
  {
   "cell_type": "code",
   "execution_count": 109,
   "id": "41dda958-7f1f-4726-9fbf-17de6cd3113d",
   "metadata": {
    "execution": {
     "iopub.execute_input": "2024-06-07T03:41:31.244328Z",
     "iopub.status.busy": "2024-06-07T03:41:31.243828Z",
     "iopub.status.idle": "2024-06-07T03:41:31.248330Z",
     "shell.execute_reply": "2024-06-07T03:41:31.247829Z",
     "shell.execute_reply.started": "2024-06-07T03:41:31.244328Z"
    }
   },
   "outputs": [
    {
     "data": {
      "text/html": [
       "<table>\n",
       "<tbody>\n",
       "<tr><td>id</td><td>charge</td><td>fires</td><td>t_lastfire</td><td>t_fires                       </td></tr>\n",
       "<tr><td>0 </td><td>8.0   </td><td>6    </td><td>5         </td><td>[0, 1, 2, 3, 4, 5]            </td></tr>\n",
       "<tr><td>1 </td><td>-7.0  </td><td>0    </td><td>-1.0      </td><td>[]                            </td></tr>\n",
       "<tr><td>2 </td><td>55.0  </td><td>0    </td><td>-1.0      </td><td>[]                            </td></tr>\n",
       "<tr><td>3 </td><td>54.0  </td><td>5    </td><td>9         </td><td>[5, 6, 7, 8, 9]               </td></tr>\n",
       "<tr><td>4 </td><td>51.0  </td><td>3    </td><td>9         </td><td>[3, 6, 9]                     </td></tr>\n",
       "<tr><td>5 </td><td>0.0   </td><td>0    </td><td>-1.0      </td><td>[]                            </td></tr>\n",
       "<tr><td>6 </td><td>0.0   </td><td>10   </td><td>9         </td><td>[0, 1, 2, 3, 4, 5, 6, 7, 8, 9]</td></tr>\n",
       "</tbody>\n",
       "</table>"
      ],
      "text/plain": [
       "'<table>\\n<tbody>\\n<tr><td>id</td><td>charge</td><td>fires</td><td>t_lastfire</td><td>t_fires                       </td></tr>\\n<tr><td>0 </td><td>8.0   </td><td>6    </td><td>5         </td><td>[0, 1, 2, 3, 4, 5]            </td></tr>\\n<tr><td>1 </td><td>-7.0  </td><td>0    </td><td>-1.0      </td><td>[]                            </td></tr>\\n<tr><td>2 </td><td>55.0  </td><td>0    </td><td>-1.0      </td><td>[]                            </td></tr>\\n<tr><td>3 </td><td>54.0  </td><td>5    </td><td>9         </td><td>[5, 6, 7, 8, 9]               </td></tr>\\n<tr><td>4 </td><td>51.0  </td><td>3    </td><td>9         </td><td>[3, 6, 9]                     </td></tr>\\n<tr><td>5 </td><td>0.0   </td><td>0    </td><td>-1.0      </td><td>[]                            </td></tr>\\n<tr><td>6 </td><td>0.0   </td><td>10   </td><td>9         </td><td>[0, 1, 2, 3, 4, 5, 6, 7, 8, 9]</td></tr>\\n</tbody>\\n</table>'"
      ]
     },
     "execution_count": 109,
     "metadata": {},
     "output_type": "execute_result"
    }
   ],
   "source": [
    "network_table(nodes)"
   ]
  },
  {
   "cell_type": "code",
   "execution_count": 10,
   "id": "50896267-05c4-4147-a2a2-94e1bbfce5a6",
   "metadata": {
    "editable": true,
    "execution": {
     "iopub.execute_input": "2024-03-31T02:51:00.062786Z",
     "iopub.status.busy": "2024-03-31T02:51:00.062786Z",
     "iopub.status.idle": "2024-03-31T02:51:00.069287Z",
     "shell.execute_reply": "2024-03-31T02:51:00.068786Z",
     "shell.execute_reply.started": "2024-03-31T02:51:00.062786Z"
    },
    "slideshow": {
     "slide_type": ""
    },
    "tags": []
   },
   "outputs": [
    {
     "data": {
      "text/plain": [
       "[Node at 1a78f2f6650 w/ Threshold: 1, Delay: None, Leak: None, children: ['4610', 'd110', '6250', '5710'],\n",
       " Node at 1a78f316110 w/ Threshold: 1, Delay: None, Leak: None, children: ['4090', '4b50', '4810', '4e10'],\n",
       " Node at 1a78f33ebd0 w/ Threshold: 1, Delay: None, Leak: None, children: [],\n",
       " Node at 1a78f33cb10 w/ Threshold: 1, Delay: None, Leak: None, children: [],\n",
       " Node at 1a78f33f6d0 w/ Threshold: 1, Delay: None, Leak: None, children: [],\n",
       " Node at 1a78f33f910 w/ Threshold: 1, Delay: None, Leak: None, children: [],\n",
       " Node at 1a78f374610 w/ Threshold: 96.0, Delay: 0.0, Leak: 1.0, children: ['4090'],\n",
       " Node at 1a78f384090 w/ Threshold: 117.0, Delay: 0.0, Leak: 2.0, children: ['4190'],\n",
       " Node at 1a78f384190 w/ Threshold: 6.0, Delay: 0.0, Leak: 0.0, children: ['4190', 'cb10'],\n",
       " Node at 1a78f32d110 w/ Threshold: 0.0, Delay: 0.0, Leak: None, children: [],\n",
       " Node at 1a78f374b50 w/ Threshold: 0.0, Delay: 0.0, Leak: 3.0, children: ['4b50'],\n",
       " Node at 1a78f374c50 w/ Threshold: 0.0, Delay: 0.0, Leak: 1.0, children: ['f910'],\n",
       " Node at 1a78f374810 w/ Threshold: 69.0, Delay: 0.0, Leak: 1.0, children: ['4810'],\n",
       " Node at 1a78f376250 w/ Threshold: 125.0, Delay: 0.0, Leak: 0.0, children: ['6250', '6350'],\n",
       " Node at 1a78f376350 w/ Threshold: 50.0, Delay: 0.0, Leak: 2.0, children: ['cb10'],\n",
       " Node at 1a78f374e10 w/ Threshold: 45.0, Delay: 0.0, Leak: 1.0, children: ['5710', '4e10'],\n",
       " Node at 1a78f375710 w/ Threshold: 110.0, Delay: 0.0, Leak: 2.0, children: ['4e10', '5810'],\n",
       " Node at 1a78f375810 w/ Threshold: 109.0, Delay: 0.0, Leak: None, children: ['f910'],\n",
       " Node at 1a78f375910 w/ Threshold: 75.0, Delay: 0.0, Leak: 1.0, children: [],\n",
       " Node at 1a78f375a10 w/ Threshold: 70.0, Delay: 0.0, Leak: 2.0, children: [],\n",
       " Node at 1a78f375b10 w/ Threshold: 31.0, Delay: 0.0, Leak: 3.0, children: []]"
      ]
     },
     "execution_count": 10,
     "metadata": {},
     "output_type": "execute_result"
    }
   ],
   "source": [
    "\n",
    "\n",
    "# nodes, inputs, outputs = cap.network_from_json(j)\n",
    "nodes"
   ]
  },
  {
   "cell_type": "code",
   "execution_count": 11,
   "id": "a90f6ed9-98c0-4399-a872-666e546119c0",
   "metadata": {
    "execution": {
     "iopub.execute_input": "2024-03-31T02:51:00.070788Z",
     "iopub.status.busy": "2024-03-31T02:51:00.070286Z",
     "iopub.status.idle": "2024-03-31T02:51:00.080787Z",
     "shell.execute_reply": "2024-03-31T02:51:00.080286Z",
     "shell.execute_reply.started": "2024-03-31T02:51:00.070788Z"
    }
   },
   "outputs": [
    {
     "data": {
      "text/plain": [
       "{'Associated_Data': {'application': {'proc_ticks': 10},\n",
       "  'label': None,\n",
       "  'processor': {'Leak_Enable': True,\n",
       "   'Max_Leak': 4,\n",
       "   'Min_Leak': -1,\n",
       "   'Max_Weight': 127,\n",
       "   'Min_Weight': -127,\n",
       "   'Max_Threshold': 127,\n",
       "   'Min_Threshold': 0,\n",
       "   'Max_Synapse_Delay': 300,\n",
       "   'Min_Synapse_Delay': 0,\n",
       "   'Max_Axon_Delay': 0,\n",
       "   'Min_Axon_Delay': 0}},\n",
       " 'Properties': {'network_properties': [],\n",
       "  'node_properties': [{'index': 0,\n",
       "    'name': 'Threshold',\n",
       "    'max_value': 127.0,\n",
       "    'min_value': 0.0,\n",
       "    'size': 1,\n",
       "    'type': 73},\n",
       "   {'index': 1,\n",
       "    'name': 'Leak',\n",
       "    'max_value': 4.0,\n",
       "    'min_value': -1.0,\n",
       "    'size': 1,\n",
       "    'type': 73},\n",
       "   {'index': 2,\n",
       "    'name': 'Delay',\n",
       "    'max_value': 0.0,\n",
       "    'min_value': 0.0,\n",
       "    'size': 1,\n",
       "    'type': 73}],\n",
       "  'edge_properties': [{'index': 0,\n",
       "    'name': 'Weight',\n",
       "    'max_value': 127.0,\n",
       "    'min_value': -127.0,\n",
       "    'size': 1,\n",
       "    'type': 73},\n",
       "   {'index': 1,\n",
       "    'name': 'Delay',\n",
       "    'max_value': 300.0,\n",
       "    'min_value': 0.0,\n",
       "    'size': 1,\n",
       "    'type': 73}]},\n",
       " 'Nodes': [{'id': 0, 'values': [1, -1, 0]},\n",
       "  {'id': 1, 'values': [1, -1, 0]},\n",
       "  {'id': 2, 'values': [1, -1, 0]},\n",
       "  {'id': 3, 'values': [1, -1, 0]},\n",
       "  {'id': 4, 'values': [1, -1, 0]},\n",
       "  {'id': 5, 'values': [1, -1, 0]},\n",
       "  {'id': 6, 'values': [96.0, 1.0, 0.0]},\n",
       "  {'id': 7, 'values': [117.0, 2.0, 0.0]},\n",
       "  {'id': 8, 'values': [6.0, 0.0, 0.0]},\n",
       "  {'id': 9, 'values': [0.0, -1, 0.0]},\n",
       "  {'id': 10, 'values': [0.0, 3.0, 0.0]},\n",
       "  {'id': 11, 'values': [0.0, 1.0, 0.0]},\n",
       "  {'id': 12, 'values': [69.0, 1.0, 0.0]},\n",
       "  {'id': 13, 'values': [125.0, 0.0, 0.0]},\n",
       "  {'id': 14, 'values': [50.0, 2.0, 0.0]},\n",
       "  {'id': 15, 'values': [45.0, 1.0, 0.0]},\n",
       "  {'id': 16, 'values': [110.0, 2.0, 0.0]},\n",
       "  {'id': 17, 'values': [109.0, -1, 0.0]},\n",
       "  {'id': 18, 'values': [75.0, 1.0, 0.0]},\n",
       "  {'id': 19, 'values': [70.0, 2.0, 0.0]},\n",
       "  {'id': 20, 'values': [31.0, 3.0, 0.0]}],\n",
       " 'Inputs': [0, 1],\n",
       " 'Outputs': [2, 3, 4, 5],\n",
       " 'Edges': [{'from': 0, 'to': 6, 'values': [255, 0]},\n",
       "  {'from': 0, 'to': 9, 'values': [255, 0]},\n",
       "  {'from': 0, 'to': 13, 'values': [255, 0]},\n",
       "  {'from': 0, 'to': 16, 'values': [255, 0]},\n",
       "  {'from': 1, 'to': 7, 'values': [255, 0]},\n",
       "  {'from': 1, 'to': 10, 'values': [255, 0]},\n",
       "  {'from': 1, 'to': 12, 'values': [255, 0]},\n",
       "  {'from': 1, 'to': 15, 'values': [255, 0]},\n",
       "  {'from': 6, 'to': 7, 'values': [-34.0, 159.0]},\n",
       "  {'from': 7, 'to': 8, 'values': [97.0, 0.0]},\n",
       "  {'from': 8, 'to': 8, 'values': [-50.0, 3.0]},\n",
       "  {'from': 8, 'to': 3, 'values': [255, 0]},\n",
       "  {'from': 10, 'to': 10, 'values': [-92.0, 117.0]},\n",
       "  {'from': 11, 'to': 5, 'values': [255, 0]},\n",
       "  {'from': 12, 'to': 12, 'values': [117.0, 36.0]},\n",
       "  {'from': 13, 'to': 13, 'values': [25.0, 210.0]},\n",
       "  {'from': 13, 'to': 14, 'values': [46.0, 2.0]},\n",
       "  {'from': 14, 'to': 3, 'values': [255, 0]},\n",
       "  {'from': 15, 'to': 16, 'values': [-47.0, 68.0]},\n",
       "  {'from': 15, 'to': 15, 'values': [61.0, 59.0]},\n",
       "  {'from': 16, 'to': 15, 'values': [99.0, 222.0]},\n",
       "  {'from': 16, 'to': 17, 'values': [45.0, 4.0]},\n",
       "  {'from': 17, 'to': 5, 'values': [255, 0]}],\n",
       " 'Network_Values': []}"
      ]
     },
     "execution_count": 11,
     "metadata": {},
     "output_type": "execute_result"
    }
   ],
   "source": [
    "d = cap.to_tennlab(nodes, inputs, outputs)\n",
    "d['Associated_Data']['application'].update({'proc_ticks': 10})\n",
    "j = json.dumps(d)\n",
    "with open('combonet.json', 'w') as f:\n",
    "    f.write(j)\n",
    "d"
   ]
  },
  {
   "cell_type": "code",
   "execution_count": null,
   "id": "c68adb9a-2860-4ec2-a361-923a7a7aa2dc",
   "metadata": {},
   "outputs": [],
   "source": []
  },
  {
   "cell_type": "code",
   "execution_count": 12,
   "id": "394a7084-4304-4bac-9028-d874aa7ad347",
   "metadata": {
    "execution": {
     "iopub.execute_input": "2024-03-31T02:51:00.082286Z",
     "iopub.status.busy": "2024-03-31T02:51:00.081786Z",
     "iopub.status.idle": "2024-03-31T02:51:00.091287Z",
     "shell.execute_reply": "2024-03-31T02:51:00.090784Z",
     "shell.execute_reply.started": "2024-03-31T02:51:00.082286Z"
    }
   },
   "outputs": [],
   "source": [
    "nodes, inputs, outputs = cap.network_from_json(read_jsonfile(f\"combonet.json\"))\n",
    "nodes = nodes.values()"
   ]
  },
  {
   "cell_type": "code",
   "execution_count": 13,
   "id": "54ba4c5f-b8b8-4c87-94c8-cd044e3ebc2f",
   "metadata": {
    "execution": {
     "iopub.execute_input": "2024-03-31T02:51:00.092285Z",
     "iopub.status.busy": "2024-03-31T02:51:00.091786Z",
     "iopub.status.idle": "2024-03-31T02:51:00.095287Z",
     "shell.execute_reply": "2024-03-31T02:51:00.094786Z",
     "shell.execute_reply.started": "2024-03-31T02:51:00.092285Z"
    }
   },
   "outputs": [],
   "source": [
    "apply_spike_const(inputs[1], 255, 10)"
   ]
  },
  {
   "cell_type": "code",
   "execution_count": 14,
   "id": "b79520b6-68dd-4f3b-b71a-d0c156a1b0d9",
   "metadata": {
    "execution": {
     "iopub.execute_input": "2024-03-31T02:51:00.096286Z",
     "iopub.status.busy": "2024-03-31T02:51:00.096286Z",
     "iopub.status.idle": "2024-03-31T02:51:00.102287Z",
     "shell.execute_reply": "2024-03-31T02:51:00.101786Z",
     "shell.execute_reply.started": "2024-03-31T02:51:00.096286Z"
    }
   },
   "outputs": [],
   "source": [
    "cap.run(nodes, 5)\n",
    "cap.run(nodes, 10)\n",
    "# cap.run(nodes, 0)"
   ]
  },
  {
   "cell_type": "code",
   "execution_count": 15,
   "id": "7d97d80f-fb93-495c-a58b-c7a6cc0cca86",
   "metadata": {
    "execution": {
     "iopub.execute_input": "2024-03-31T02:51:00.103285Z",
     "iopub.status.busy": "2024-03-31T02:51:00.103285Z",
     "iopub.status.idle": "2024-03-31T02:51:00.109287Z",
     "shell.execute_reply": "2024-03-31T02:51:00.108786Z",
     "shell.execute_reply.started": "2024-03-31T02:51:00.103285Z"
    }
   },
   "outputs": [
    {
     "data": {
      "text/html": [
       "<table>\n",
       "<tbody>\n",
       "<tr><td>id</td><td>charge</td><td>fires</td><td>t_lastfire</td><td>t_fires                    </td></tr>\n",
       "<tr><td>0 </td><td>0     </td><td>0    </td><td>-1.0      </td><td>[]                         </td></tr>\n",
       "<tr><td>1 </td><td>0     </td><td>6    </td><td>5         </td><td>[0, 1, 2, 3, 4, 5]         </td></tr>\n",
       "<tr><td>2 </td><td>0     </td><td>0    </td><td>-1.0      </td><td>[]                         </td></tr>\n",
       "<tr><td>3 </td><td>0     </td><td>9    </td><td>8         </td><td>[0, 1, 2, 3, 4, 5, 6, 7, 8]</td></tr>\n",
       "<tr><td>4 </td><td>0     </td><td>0    </td><td>-1.0      </td><td>[]                         </td></tr>\n",
       "<tr><td>5 </td><td>0     </td><td>0    </td><td>-1.0      </td><td>[]                         </td></tr>\n",
       "<tr><td>6 </td><td>0     </td><td>0    </td><td>-1.0      </td><td>[]                         </td></tr>\n",
       "<tr><td>7 </td><td>0.0   </td><td>7    </td><td>6         </td><td>[0, 1, 2, 3, 4, 5, 6]      </td></tr>\n",
       "<tr><td>8 </td><td>-87.0 </td><td>8    </td><td>7         </td><td>[0, 1, 2, 3, 4, 5, 6, 7]   </td></tr>\n",
       "<tr><td>9 </td><td>0     </td><td>0    </td><td>-1.0      </td><td>[]                         </td></tr>\n",
       "<tr><td>10</td><td>0.0   </td><td>7    </td><td>6         </td><td>[0, 1, 2, 3, 4, 5, 6]      </td></tr>\n",
       "<tr><td>11</td><td>0     </td><td>0    </td><td>-1.0      </td><td>[]                         </td></tr>\n",
       "<tr><td>12</td><td>0.0   </td><td>7    </td><td>6         </td><td>[0, 1, 2, 3, 4, 5, 6]      </td></tr>\n",
       "<tr><td>13</td><td>0.0   </td><td>0    </td><td>-1.0      </td><td>[]                         </td></tr>\n",
       "<tr><td>14</td><td>0.0   </td><td>0    </td><td>-1.0      </td><td>[]                         </td></tr>\n",
       "<tr><td>15</td><td>0.0   </td><td>7    </td><td>6         </td><td>[0, 1, 2, 3, 4, 5, 6]      </td></tr>\n",
       "<tr><td>16</td><td>0.0   </td><td>0    </td><td>-1.0      </td><td>[]                         </td></tr>\n",
       "<tr><td>17</td><td>0.0   </td><td>0    </td><td>-1.0      </td><td>[]                         </td></tr>\n",
       "<tr><td>18</td><td>0     </td><td>0    </td><td>-1.0      </td><td>[]                         </td></tr>\n",
       "<tr><td>19</td><td>0     </td><td>0    </td><td>-1.0      </td><td>[]                         </td></tr>\n",
       "<tr><td>20</td><td>0     </td><td>0    </td><td>-1.0      </td><td>[]                         </td></tr>\n",
       "</tbody>\n",
       "</table>"
      ],
      "text/plain": [
       "'<table>\\n<tbody>\\n<tr><td>id</td><td>charge</td><td>fires</td><td>t_lastfire</td><td>t_fires                    </td></tr>\\n<tr><td>0 </td><td>0     </td><td>0    </td><td>-1.0      </td><td>[]                         </td></tr>\\n<tr><td>1 </td><td>0     </td><td>6    </td><td>5         </td><td>[0, 1, 2, 3, 4, 5]         </td></tr>\\n<tr><td>2 </td><td>0     </td><td>0    </td><td>-1.0      </td><td>[]                         </td></tr>\\n<tr><td>3 </td><td>0     </td><td>9    </td><td>8         </td><td>[0, 1, 2, 3, 4, 5, 6, 7, 8]</td></tr>\\n<tr><td>4 </td><td>0     </td><td>0    </td><td>-1.0      </td><td>[]                         </td></tr>\\n<tr><td>5 </td><td>0     </td><td>0    </td><td>-1.0      </td><td>[]                         </td></tr>\\n<tr><td>6 </td><td>0     </td><td>0    </td><td>-1.0      </td><td>[]                         </td></tr>\\n<tr><td>7 </td><td>0.0   </td><td>7    </td><td>6         </td><td>[0, 1, 2, 3, 4, 5, 6]      </td></tr>\\n<tr><td>8 </td><td>-87.0 </td><td>8    </td><td>7         </td><td>[0, 1, 2, 3, 4, 5, 6, 7]   </td></tr>\\n<tr><td>9 </td><td>0     </td><td>0    </td><td>-1.0      </td><td>[]                         </td></tr>\\n<tr><td>10</td><td>0.0   </td><td>7    </td><td>6         </td><td>[0, 1, 2, 3, 4, 5, 6]      </td></tr>\\n<tr><td>11</td><td>0     </td><td>0    </td><td>-1.0      </td><td>[]                         </td></tr>\\n<tr><td>12</td><td>0.0   </td><td>7    </td><td>6         </td><td>[0, 1, 2, 3, 4, 5, 6]      </td></tr>\\n<tr><td>13</td><td>0.0   </td><td>0    </td><td>-1.0      </td><td>[]                         </td></tr>\\n<tr><td>14</td><td>0.0   </td><td>0    </td><td>-1.0      </td><td>[]                         </td></tr>\\n<tr><td>15</td><td>0.0   </td><td>7    </td><td>6         </td><td>[0, 1, 2, 3, 4, 5, 6]      </td></tr>\\n<tr><td>16</td><td>0.0   </td><td>0    </td><td>-1.0      </td><td>[]                         </td></tr>\\n<tr><td>17</td><td>0.0   </td><td>0    </td><td>-1.0      </td><td>[]                         </td></tr>\\n<tr><td>18</td><td>0     </td><td>0    </td><td>-1.0      </td><td>[]                         </td></tr>\\n<tr><td>19</td><td>0     </td><td>0    </td><td>-1.0      </td><td>[]                         </td></tr>\\n<tr><td>20</td><td>0     </td><td>0    </td><td>-1.0      </td><td>[]                         </td></tr>\\n</tbody>\\n</table>'"
      ]
     },
     "execution_count": 15,
     "metadata": {},
     "output_type": "execute_result"
    }
   ],
   "source": [
    "network_table(nodes)"
   ]
  },
  {
   "cell_type": "code",
   "execution_count": null,
   "id": "e476023b-4deb-45d5-bab5-7f188bf4e16d",
   "metadata": {},
   "outputs": [],
   "source": []
  }
 ],
 "metadata": {
  "kernelspec": {
   "display_name": "Python 3 (ipykernel)",
   "language": "python",
   "name": "python3"
  },
  "language_info": {
   "codemirror_mode": {
    "name": "ipython",
    "version": 3
   },
   "file_extension": ".py",
   "mimetype": "text/x-python",
   "name": "python",
   "nbconvert_exporter": "python",
   "pygments_lexer": "ipython3",
   "version": "3.12.2"
  }
 },
 "nbformat": 4,
 "nbformat_minor": 5
}

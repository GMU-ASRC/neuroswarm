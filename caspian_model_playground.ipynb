{
 "cells": [
  {
   "cell_type": "code",
   "execution_count": 2,
   "id": "0f9b2e56-dd08-4425-bbc5-fa6d17f8432f",
   "metadata": {
    "execution": {
     "iopub.execute_input": "2024-02-23T13:07:25.803787Z",
     "iopub.status.busy": "2024-02-23T13:07:25.803289Z",
     "iopub.status.idle": "2024-02-23T13:07:25.823288Z",
     "shell.execute_reply": "2024-02-23T13:07:25.822786Z",
     "shell.execute_reply.started": "2024-02-23T13:07:25.803787Z"
    }
   },
   "outputs": [],
   "source": [
    "from casPYan import Node, Edge, connect, step, apply_spike\n",
    "import casPYan as cap\n",
    "import tabulate\n",
    "import json"
   ]
  },
  {
   "cell_type": "code",
   "execution_count": 3,
   "id": "079a4e2f-f90d-447a-95e0-70e38ce23028",
   "metadata": {
    "execution": {
     "iopub.execute_input": "2024-02-23T13:07:25.824786Z",
     "iopub.status.busy": "2024-02-23T13:07:25.824288Z",
     "iopub.status.idle": "2024-02-23T13:07:25.828788Z",
     "shell.execute_reply": "2024-02-23T13:07:25.828286Z",
     "shell.execute_reply.started": "2024-02-23T13:07:25.824786Z"
    }
   },
   "outputs": [],
   "source": [
    "nodes = []\n",
    "nodes.append(Node())\n",
    "nodes.append(Node())\n",
    "\n",
    "edge = connect(nodes[0], nodes[1], 1)"
   ]
  },
  {
   "cell_type": "code",
   "execution_count": 4,
   "id": "04fc9c9a-26b2-4c1d-a799-95485778ae48",
   "metadata": {
    "execution": {
     "iopub.execute_input": "2024-02-23T13:07:25.830289Z",
     "iopub.status.busy": "2024-02-23T13:07:25.829787Z",
     "iopub.status.idle": "2024-02-23T13:07:25.833788Z",
     "shell.execute_reply": "2024-02-23T13:07:25.833287Z",
     "shell.execute_reply.started": "2024-02-23T13:07:25.830289Z"
    }
   },
   "outputs": [],
   "source": [
    "apply_spike(nodes[0], 1.0, 0)"
   ]
  },
  {
   "cell_type": "code",
   "execution_count": 5,
   "id": "766f42f0-5cc1-477b-a78f-5b5c094ed15f",
   "metadata": {
    "execution": {
     "iopub.execute_input": "2024-02-23T13:07:25.835287Z",
     "iopub.status.busy": "2024-02-23T13:07:25.834790Z",
     "iopub.status.idle": "2024-02-23T13:07:25.838786Z",
     "shell.execute_reply": "2024-02-23T13:07:25.838286Z",
     "shell.execute_reply.started": "2024-02-23T13:07:25.835287Z"
    }
   },
   "outputs": [],
   "source": [
    "cap.run(nodes, 1)"
   ]
  },
  {
   "cell_type": "code",
   "execution_count": 6,
   "id": "114dda81-da1a-4e0e-8e38-3c8cfd26d9ed",
   "metadata": {
    "execution": {
     "iopub.execute_input": "2024-02-23T13:07:25.839787Z",
     "iopub.status.busy": "2024-02-23T13:07:25.839286Z",
     "iopub.status.idle": "2024-02-23T13:07:25.850788Z",
     "shell.execute_reply": "2024-02-23T13:07:25.850287Z",
     "shell.execute_reply.started": "2024-02-23T13:07:25.839787Z"
    }
   },
   "outputs": [
    {
     "data": {
      "text/html": [
       "<table>\n",
       "<tbody>\n",
       "<tr><td>id</td><td>charge</td><td>fires</td><td>t_lastfire</td><td>t_fires</td></tr>\n",
       "<tr><td>0 </td><td>255   </td><td>0    </td><td>-1.0      </td><td>[]     </td></tr>\n",
       "<tr><td>1 </td><td>0     </td><td>0    </td><td>-1.0      </td><td>[]     </td></tr>\n",
       "</tbody>\n",
       "</table>"
      ],
      "text/plain": [
       "'<table>\\n<tbody>\\n<tr><td>id</td><td>charge</td><td>fires</td><td>t_lastfire</td><td>t_fires</td></tr>\\n<tr><td>0 </td><td>255   </td><td>0    </td><td>-1.0      </td><td>[]     </td></tr>\\n<tr><td>1 </td><td>0     </td><td>0    </td><td>-1.0      </td><td>[]     </td></tr>\\n</tbody>\\n</table>'"
      ]
     },
     "execution_count": 6,
     "metadata": {},
     "output_type": "execute_result"
    }
   ],
   "source": [
    "counts = cap.fires(nodes)\n",
    "vectors = cap.vectors(nodes)\n",
    "lastfires = cap.lastfires(nodes)\n",
    "charges = cap.charges(nodes)\n",
    "# histories = [node.history for node in nodes]\n",
    "\n",
    "data = zip(\n",
    "    range(len(counts)),\n",
    "    charges,\n",
    "    counts,\n",
    "    lastfires,\n",
    "    vectors,\n",
    "    # histories,\n",
    ")\n",
    "data = [[\n",
    "    'id',\n",
    "    'charge',\n",
    "    'fires',\n",
    "    't_lastfire',\n",
    "    't_fires',\n",
    "    # 'histories',\n",
    "]] + list(data)\n",
    "tabulate.tabulate(data, tablefmt='html')"
   ]
  },
  {
   "cell_type": "code",
   "execution_count": 7,
   "id": "50896267-05c4-4147-a2a2-94e1bbfce5a6",
   "metadata": {
    "execution": {
     "iopub.execute_input": "2024-02-23T13:07:25.851787Z",
     "iopub.status.busy": "2024-02-23T13:07:25.851287Z",
     "iopub.status.idle": "2024-02-23T13:07:25.870786Z",
     "shell.execute_reply": "2024-02-23T13:07:25.870285Z",
     "shell.execute_reply.started": "2024-02-23T13:07:25.851787Z"
    }
   },
   "outputs": [
    {
     "data": {
      "text/plain": [
       "[Node at 22985afb850 w/ Threshold: 9999.0, Delay: 0.0, Leak: 0.0, children: ['bc50'],\n",
       " Node at 22985afbc50 w/ Threshold: 63.0, Delay: 0.0, Leak: None, children: []]"
      ]
     },
     "execution_count": 7,
     "metadata": {},
     "output_type": "execute_result"
    }
   ],
   "source": [
    "with open(\"../experiment_tenn2_tenngineered-milling.json\") as f:\n",
    "    j = json.loads(f.read())\n",
    "\n",
    "nodes, inputs, outputs = cap.network_from_json(j)\n",
    "nodes"
   ]
  },
  {
   "cell_type": "code",
   "execution_count": 13,
   "id": "a90f6ed9-98c0-4399-a872-666e546119c0",
   "metadata": {
    "execution": {
     "iopub.execute_input": "2024-02-23T13:07:55.359788Z",
     "iopub.status.busy": "2024-02-23T13:07:55.359788Z",
     "iopub.status.idle": "2024-02-23T13:07:55.364786Z",
     "shell.execute_reply": "2024-02-23T13:07:55.364286Z",
     "shell.execute_reply.started": "2024-02-23T13:07:55.359788Z"
    }
   },
   "outputs": [
    {
     "data": {
      "text/plain": [
       "'{\"Associated_Data\": {\"application\": {}, \"label\": null, \"processor\": {\"Leak_Enable\": true, \"Max_Leak\": 4, \"Min_Leak\": -1, \"Max_Weight\": 127, \"Min_Weight\": -127, \"Max_Threshold\": 127, \"Min_Threshold\": 0, \"Max_Synapse_Delay\": 300, \"Min_Synapse_Delay\": 0, \"Max_Axon_Delay\": 0, \"Min_Axon_Delay\": 0}}, \"Properties\": {\"network_properties\": [], \"node_properties\": [{\"index\": 0, \"name\": \"Threshold\", \"max_value\": 127.0, \"min_value\": 0.0, \"size\": 1, \"type\": 73}, {\"index\": 1, \"name\": \"Leak\", \"max_value\": 4.0, \"min_value\": -1.0, \"size\": 1, \"type\": 73}, {\"index\": 2, \"name\": \"Delay\", \"max_value\": 0.0, \"min_value\": 0.0, \"size\": 1, \"type\": 73}], \"edge_properties\": [{\"index\": 0, \"name\": \"Weight\", \"max_value\": 127.0, \"min_value\": -127.0, \"size\": 1, \"type\": 73}, {\"index\": 1, \"name\": \"Delay\", \"max_value\": 300.0, \"min_value\": 0.0, \"size\": 1, \"type\": 73}]}, \"Nodes\": [{\"id\": 0, \"values\": [9999.0, 0.0, 0.0]}, {\"id\": 1, \"values\": [63.0, null, 0.0]}], \"Inputs\": [0], \"Outputs\": [1], \"Edges\": [{\"from\": 0, \"to\": 1, \"values\": [0.1, 0.0]}], \"Network_Values\": []}'"
      ]
     },
     "execution_count": 13,
     "metadata": {},
     "output_type": "execute_result"
    }
   ],
   "source": [
    "d = cap.to_tennlab(nodes, inputs, outputs)\n",
    "j = json.dumps(d)\n",
    "j"
   ]
  },
  {
   "cell_type": "code",
   "execution_count": null,
   "id": "c68adb9a-2860-4ec2-a361-923a7a7aa2dc",
   "metadata": {},
   "outputs": [],
   "source": []
  }
 ],
 "metadata": {
  "kernelspec": {
   "display_name": "Python 3 (ipykernel)",
   "language": "python",
   "name": "python3"
  },
  "language_info": {
   "codemirror_mode": {
    "name": "ipython",
    "version": 3
   },
   "file_extension": ".py",
   "mimetype": "text/x-python",
   "name": "python",
   "nbconvert_exporter": "python",
   "pygments_lexer": "ipython3",
   "version": "3.12.2"
  }
 },
 "nbformat": 4,
 "nbformat_minor": 5
}
